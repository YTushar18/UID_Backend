{
 "cells": [
  {
   "cell_type": "code",
   "execution_count": 4,
   "id": "88148387",
   "metadata": {},
   "outputs": [
    {
     "name": "stdout",
     "output_type": "stream",
     "text": [
      "Sending email... <Response [401]>\n",
      "Email sent successfully.\n"
     ]
    }
   ],
   "source": [
    "import requests\n",
    "\n",
    "def send_email(to_email, subject, content):\n",
    "    return requests.post(\n",
    "        \"https://api.mailgun.net/v3/sandboxb5e2c70ddbfa43f9909634934cdeb4a1.mailgun.org/messages\",\n",
    "        auth=(\"api\", \"key-2f9bd6c5088f55f2953cfae533e2d8c5-17c877d7-bfd7e8bb\"),\n",
    "        data={\n",
    "            \"from\": \"Universal Identity Nexus <mailgun@sandbox12345.mailgun.org>\",\n",
    "            \"to\": [to_email],\n",
    "            \"subject\": subject,\n",
    "            \"text\": content\n",
    "        }\n",
    "    )\n",
    "\n",
    "\n",
    "print(\"Sending email...\", send_email(\"tusharofficial96@gmail.com\", \"Test Email\", \"This is a test email.\"))\n",
    "print(\"Email sent successfully.\")"
   ]
  },
  {
   "cell_type": "code",
   "execution_count": 21,
   "id": "85b7a042",
   "metadata": {},
   "outputs": [
    {
     "name": "stdout",
     "output_type": "stream",
     "text": [
      "<Response [200]>\n"
     ]
    }
   ],
   "source": [
    "import os\n",
    "import requests\n",
    "def send_simple_message():\n",
    "  \treturn requests.post(\n",
    "  \t\t\"https://api.mailgun.net/v3/sandboxb5e2c70ddbfa43f9909634934cdeb4a1.mailgun.org/messages\",\n",
    "  \t\tauth=(\"api\", \"4cfde503502c46e32f58247395e778cb-17c877d7-08ee0b55\"), #2d0fce480f981969900d33f035ad9f61-17c877d7-4589aeb0\n",
    "  \t\tdata={\"from\": \"Mailgun Sandbox <postmaster@sandboxb5e2c70ddbfa43f9909634934cdeb4a1.mailgun.org>\",\n",
    "\t\t\t\"to\": \"Tushar Yadav <tusharofficial96@gmail.com>\",\n",
    "  \t\t\t\"subject\": \"Hello Tushar Yadav\",\n",
    "  \t\t\t\"text\": \"Congratulations Tushar Yadav, you just sent an email with Mailgun! You are truly awesome!\"})\n",
    "\n",
    "print(send_simple_message())"
   ]
  },
  {
   "cell_type": "code",
   "execution_count": null,
   "id": "f52dd3aa",
   "metadata": {},
   "outputs": [],
   "source": []
  }
 ],
 "metadata": {
  "kernelspec": {
   "display_name": ".venv",
   "language": "python",
   "name": "python3"
  },
  "language_info": {
   "codemirror_mode": {
    "name": "ipython",
    "version": 3
   },
   "file_extension": ".py",
   "mimetype": "text/x-python",
   "name": "python",
   "nbconvert_exporter": "python",
   "pygments_lexer": "ipython3",
   "version": "3.10.16"
  }
 },
 "nbformat": 4,
 "nbformat_minor": 5
}
